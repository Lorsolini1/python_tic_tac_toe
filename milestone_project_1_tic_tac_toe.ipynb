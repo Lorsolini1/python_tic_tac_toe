{
 "cells": [
  {
   "cell_type": "markdown",
   "metadata": {},
   "source": [
    "# Tic Tac Toe Project\n",
    "\n",
    "Goals:\n",
    "\n",
    "1. 2 players (Player 1 and Player 2) should be able to play the game (both sitting at the same computer)\n",
    "\n",
    "2. The board should be printed out every time a player makes a move\n",
    "\n",
    "3. You should be able to accept input of the player position and then place a symbol on the board\n",
    "\n",
    "\n",
    "Project Scope:\n",
    "\n",
    "1. We need to print a board.\n",
    "\n",
    "2. Take in player input.\n",
    "\n",
    "3. Place their input on the board.\n",
    "\n",
    "4. Check if the game is won, tied, lost, or ongoing.\n",
    "\n",
    "5. Repeat c and d until the game has been won or tied.\n",
    "\n",
    "6. Ask if players want to play again.\n",
    "\n",
    "\n",
    "Game Components:\n",
    "\n",
    "1. The board is a 9-space grid that corresponds to the number pad (1-9) on a computer keyboard\n",
    "\n",
    "2. One player is X and the other player is O\n",
    "\n",
    "3. One player goes first, the other follows, and the alternating sequence is kept the same for the duration of the game\n",
    "\n",
    "4. Once a player manages to get an X or O 3 times in a row (horizontal / vertical / diagonal), that player wins\n",
    "\n",
    "5. If neither player can get an X or O 3 times in a row and all 9 spaces get used up, the game ends in a tie\n",
    "\n",
    "6. Once the game is over, the players decide if they want to play again\n",
    "\n",
    "\n",
    "How to Build the Project:\n",
    "\n",
    "1. Develop the project scope\n",
    "2. Build the project components (functions) based on the project scope (1 component at a time)\n",
    "3. Merge the components together to create the project (program)\n",
    "\n",
    "\n",
    "*Write a line of code, Test a line of code"
   ]
  },
  {
   "cell_type": "markdown",
   "metadata": {},
   "source": [
    "# Project Components"
   ]
  },
  {
   "cell_type": "code",
   "execution_count": 1,
   "metadata": {},
   "outputs": [],
   "source": [
    "# Figure out how to store the players' marker positions\n",
    "\n",
    "# Set the board up as a list\n",
    "# Index value in list corresponds to the number hit on the number pad\n",
    "# Put a placeholder in the 0 index position (will not use)\n",
    "\n",
    "# Index Value:  0   1   2   3   4   5   6   7   8   9\n",
    "\n",
    "board = ['#','X','O','X','O','X','O','X','O','X']"
   ]
  },
  {
   "cell_type": "code",
   "execution_count": 2,
   "metadata": {},
   "outputs": [],
   "source": [
    "from IPython.display import clear_output"
   ]
  },
  {
   "cell_type": "code",
   "execution_count": 3,
   "metadata": {},
   "outputs": [],
   "source": [
    "# Create a function that prints the board\n",
    "\n",
    "def display_board(board):\n",
    "            \n",
    "    print('         |         |                 ')\n",
    "    print(f'    {board[7]}     |    {board[8]}     |    {board[9]}            ')\n",
    "    print('         |         |                 ')   \n",
    "    print('---------|---------|---------')\n",
    "    print('         |         |                 ')\n",
    "    print(f'    {board[4]}     |    {board[5]}     |    {board[6]}            ')\n",
    "    print('         |         |                 ')\n",
    "    print('---------|---------|---------')\n",
    "    print('         |         |                 ')\n",
    "    print(f'    {board[1]}     |    {board[2]}     |    {board[3]}            ')\n",
    "    print('         |         |                 ')"
   ]
  },
  {
   "cell_type": "code",
   "execution_count": 4,
   "metadata": {},
   "outputs": [
    {
     "name": "stdout",
     "output_type": "stream",
     "text": [
      "         |         |                 \n",
      "         |         |                \n",
      "         |         |                 \n",
      "---------|---------|---------\n",
      "         |         |                 \n",
      "         |         |                \n",
      "         |         |                 \n",
      "---------|---------|---------\n",
      "         |         |                 \n",
      "         |         |                \n",
      "         |         |                 \n"
     ]
    }
   ],
   "source": [
    "# Test\n",
    "\n",
    "display_board(['#','','','','','','','','',''])"
   ]
  },
  {
   "cell_type": "code",
   "execution_count": 5,
   "metadata": {},
   "outputs": [],
   "source": [
    "def display_number_board():\n",
    "        \n",
    "    board = [1,2,3,4,5,6,7,8,9]    \n",
    "        \n",
    "    print('         |         |                 ')\n",
    "    print(f'    {board[6]}    |    {board[7]}    |    {board[8]}            ')\n",
    "    print('         |         |                 ')   \n",
    "    print('---------|---------|---------')\n",
    "    print('         |         |                 ')\n",
    "    print(f'    {board[3]}    |    {board[4]}    |    {board[5]}            ')\n",
    "    print('         |         |                 ')\n",
    "    print('---------|---------|---------')\n",
    "    print('         |         |                 ')\n",
    "    print(f'    {board[0]}    |    {board[1]}    |    {board[2]}            ')\n",
    "    print('         |         |                 ')"
   ]
  },
  {
   "cell_type": "code",
   "execution_count": 6,
   "metadata": {},
   "outputs": [
    {
     "name": "stdout",
     "output_type": "stream",
     "text": [
      "         |         |                 \n",
      "    7    |    8    |    9            \n",
      "         |         |                 \n",
      "---------|---------|---------\n",
      "         |         |                 \n",
      "    4    |    5    |    6            \n",
      "         |         |                 \n",
      "---------|---------|---------\n",
      "         |         |                 \n",
      "    1    |    2    |    3            \n",
      "         |         |                 \n"
     ]
    }
   ],
   "source": [
    "# Test\n",
    "\n",
    "display_number_board()"
   ]
  },
  {
   "cell_type": "code",
   "execution_count": 7,
   "metadata": {},
   "outputs": [],
   "source": [
    "# Create a function that:\n",
    "# a) Takes in the marker choices of the players\n",
    "# b) Stores and assigns the correct marker to each player\n",
    "\n",
    "def pick_marker():\n",
    "    marker = input('\\nPlayer 1, select your marker: ')\n",
    "    marker_list = ['x','X','o','O']\n",
    "        \n",
    "    while marker not in marker_list:\n",
    "        marker = input('Please enter a valid answer: ')\n",
    "    else:\n",
    "        player1 = marker.upper()\n",
    "        player2 = ''\n",
    "        \n",
    "        if player1 == 'X':\n",
    "            player2 += 'O'\n",
    "        else:\n",
    "            player2 += 'X'\n",
    "    print(f'\\nPlayer 1: {player1}')\n",
    "    print(f'Player 2: {player2}')"
   ]
  },
  {
   "cell_type": "code",
   "execution_count": 8,
   "metadata": {},
   "outputs": [
    {
     "name": "stdout",
     "output_type": "stream",
     "text": [
      "\n",
      "Player 1, select your marker: 2\n",
      "Please enter a valid answer: x\n",
      "\n",
      "Player 1: X\n",
      "Player 2: O\n"
     ]
    }
   ],
   "source": [
    "# Test\n",
    "\n",
    "pick_marker()"
   ]
  },
  {
   "cell_type": "code",
   "execution_count": 9,
   "metadata": {},
   "outputs": [],
   "source": [
    "# Create a function that:\n",
    "# a) Takes in the player marker and marker position\n",
    "# b) Stores the marker at the correct index position in the list\n",
    "\n",
    "def store_marker(board, marker):\n",
    "    while marker != 'X' and marker != 'O':\n",
    "        marker = input('Please enter a valid marker: ').upper()\n",
    "        \n",
    "    position = int(input('Choose your position: '))\n",
    "    while position not in range(1,10) or board[position] == 'X' or board[position] == 'O':\n",
    "        position = int(input('Please enter a different position: '))\n",
    "    else:\n",
    "        board.pop(position)\n",
    "        board.insert(position, marker)"
   ]
  },
  {
   "cell_type": "code",
   "execution_count": 10,
   "metadata": {},
   "outputs": [
    {
     "name": "stdout",
     "output_type": "stream",
     "text": [
      "Choose your position: 3\n"
     ]
    }
   ],
   "source": [
    "# Test\n",
    "\n",
    "store_marker(['#','','','','','','','','',''], 'X')"
   ]
  },
  {
   "cell_type": "code",
   "execution_count": 11,
   "metadata": {},
   "outputs": [],
   "source": [
    "# Create a function that:\n",
    "# a) Takes in the board and a player marker\n",
    "# b) Checks if there is a win\n",
    "\n",
    "def check_game(board, marker):\n",
    "    if board[1] == board[2] == board[3] == marker:\n",
    "        return 'Victory'\n",
    "    elif board[4] == board[5] == board[6] == marker:\n",
    "        return 'Victory'\n",
    "    elif board[7] == board[8] == board[9] == marker:\n",
    "        return 'Victory'\n",
    "    elif board[1] == board[4] == board[7] == marker:\n",
    "        return 'Victory'\n",
    "    elif board[2] == board[5] == board[8] == marker:\n",
    "        return 'Victory'\n",
    "    elif board[3] == board[6] == board[9] == marker:\n",
    "        return 'Victory'\n",
    "    elif board[1] == board[5] == board[9] == marker:\n",
    "        return 'Victory'\n",
    "    elif board[3] == board[5] == board[7] == marker:\n",
    "        return 'Victory'\n",
    "    else:\n",
    "        pass\n",
    "    "
   ]
  },
  {
   "cell_type": "code",
   "execution_count": 12,
   "metadata": {},
   "outputs": [
    {
     "data": {
      "text/plain": [
       "'Victory'"
      ]
     },
     "execution_count": 12,
     "metadata": {},
     "output_type": "execute_result"
    }
   ],
   "source": [
    "# Test\n",
    "\n",
    "check_game(['#','','','','X','X','X','','',''], 'X')"
   ]
  },
  {
   "cell_type": "code",
   "execution_count": 13,
   "metadata": {},
   "outputs": [],
   "source": [
    "# Test 2\n",
    "\n",
    "check_game(['#','X','O','O','O','X','X','X','O','O'], 'X')"
   ]
  },
  {
   "cell_type": "code",
   "execution_count": 14,
   "metadata": {},
   "outputs": [],
   "source": [
    "# Create a function that introduces the players to the game\n",
    "\n",
    "def intro():\n",
    "    print('Welcome to Cyber Tic-Tac-Toe!\\n')\n",
    "    print('Objective:\\n\\n1) Pick your marker: X or O\\n2) Press the key associated with the number position on the board to place the marker there.\\n3) First player to line up 3 consecutive markers wins!\\n')\n",
    "    display_number_board()\n",
    "    \n",
    "    pick_marker()"
   ]
  },
  {
   "cell_type": "code",
   "execution_count": 15,
   "metadata": {},
   "outputs": [
    {
     "name": "stdout",
     "output_type": "stream",
     "text": [
      "Welcome to Cyber Tic-Tac-Toe!\n",
      "\n",
      "Objective:\n",
      "\n",
      "1) Pick your marker: X or O\n",
      "2) Press the key associated with the number position on the board to place the marker there.\n",
      "3) First player to line up 3 consecutive markers wins!\n",
      "\n",
      "         |         |                 \n",
      "    7    |    8    |    9            \n",
      "         |         |                 \n",
      "---------|---------|---------\n",
      "         |         |                 \n",
      "    4    |    5    |    6            \n",
      "         |         |                 \n",
      "---------|---------|---------\n",
      "         |         |                 \n",
      "    1    |    2    |    3            \n",
      "         |         |                 \n",
      "\n",
      "Player 1, select your marker: x\n",
      "\n",
      "Player 1: X\n",
      "Player 2: O\n"
     ]
    }
   ],
   "source": [
    "# Test\n",
    "\n",
    "intro()"
   ]
  },
  {
   "cell_type": "code",
   "execution_count": 16,
   "metadata": {},
   "outputs": [],
   "source": [
    "# Create a function that plays the game\n",
    "\n",
    "def begin_game():\n",
    "    print(\"\\nBegin!\\n\")\n",
    "    \n",
    "    board = ['#','','','','','','','','','']   \n",
    "\n",
    "    while '' in board:\n",
    "        marker = input('Enter your marker: ').upper()\n",
    "        store_marker(board, marker)\n",
    "        clear_output()\n",
    "        check_game(board, marker)\n",
    "        \n",
    "        if check_game(board, marker):\n",
    "            print('Player wins!\\n')\n",
    "            display_board(board)\n",
    "            break\n",
    "        else:\n",
    "            display_board(board)\n",
    "    else:\n",
    "        print('\\nTie Game!')"
   ]
  },
  {
   "cell_type": "code",
   "execution_count": 17,
   "metadata": {},
   "outputs": [
    {
     "name": "stdout",
     "output_type": "stream",
     "text": [
      "Player wins!\n",
      "\n",
      "         |         |                 \n",
      "         |         |    X            \n",
      "         |         |                 \n",
      "---------|---------|---------\n",
      "         |         |                 \n",
      "         |    X     |                \n",
      "         |         |                 \n",
      "---------|---------|---------\n",
      "         |         |                 \n",
      "    X     |         |                \n",
      "         |         |                 \n"
     ]
    }
   ],
   "source": [
    "# Test\n",
    "\n",
    "begin_game()"
   ]
  },
  {
   "cell_type": "code",
   "execution_count": 18,
   "metadata": {},
   "outputs": [],
   "source": [
    "# Create a function that asks the players if they want to play again\n",
    "\n",
    "def play_again():\n",
    "    repeat_game = input('\\nPlay again (Y/N)? ').upper()\n",
    "    \n",
    "    while repeat_game != 'Y' and repeat_game != 'N':\n",
    "        repeat_game = input('\\nPlease enter a valid answer: ').upper()\n",
    "    else:\n",
    "        if repeat_game.upper() == 'Y':\n",
    "            clear_output()\n",
    "            play_game()\n",
    "        else:\n",
    "            print('\\nThanks for playing!')"
   ]
  },
  {
   "cell_type": "markdown",
   "metadata": {},
   "source": [
    "# Game"
   ]
  },
  {
   "cell_type": "code",
   "execution_count": 19,
   "metadata": {},
   "outputs": [],
   "source": [
    "def play_game():\n",
    "    intro()\n",
    "    begin_game()  \n",
    "    play_again()"
   ]
  },
  {
   "cell_type": "code",
   "execution_count": null,
   "metadata": {},
   "outputs": [
    {
     "name": "stdout",
     "output_type": "stream",
     "text": [
      "Welcome to Cyber Tic-Tac-Toe!\n",
      "\n",
      "Objective:\n",
      "\n",
      "1) Pick your marker: X or O\n",
      "2) Press the key associated with the number position on the board to place the marker there.\n",
      "3) First player to line up 3 consecutive markers wins!\n",
      "\n",
      "         |         |                 \n",
      "    7    |    8    |    9            \n",
      "         |         |                 \n",
      "---------|---------|---------\n",
      "         |         |                 \n",
      "    4    |    5    |    6            \n",
      "         |         |                 \n",
      "---------|---------|---------\n",
      "         |         |                 \n",
      "    1    |    2    |    3            \n",
      "         |         |                 \n"
     ]
    }
   ],
   "source": [
    "# Test\n",
    "\n",
    "play_game()"
   ]
  },
  {
   "cell_type": "markdown",
   "metadata": {},
   "source": [
    "# Future Features\n",
    "\n",
    "\n",
    "1) Automate the alternating sequence of entering 'X' and 'O' so that players only need to enter their desired position.\n",
    "\n",
    "2) Print out which player actually won when the game ends\n",
    "    \n",
    "3) Prevent the board lines from shifting when placing a marker on the board."
   ]
  }
 ],
 "metadata": {
  "kernelspec": {
   "display_name": "Python 3",
   "language": "python",
   "name": "python3"
  },
  "language_info": {
   "codemirror_mode": {
    "name": "ipython",
    "version": 3
   },
   "file_extension": ".py",
   "mimetype": "text/x-python",
   "name": "python",
   "nbconvert_exporter": "python",
   "pygments_lexer": "ipython3",
   "version": "3.7.3"
  }
 },
 "nbformat": 4,
 "nbformat_minor": 2
}
